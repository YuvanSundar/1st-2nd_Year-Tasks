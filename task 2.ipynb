{
  "nbformat": 4,
  "nbformat_minor": 0,
  "metadata": {
    "colab": {
      "provenance": []
    },
    "kernelspec": {
      "name": "python3",
      "display_name": "Python 3"
    },
    "language_info": {
      "name": "python"
    }
  },
  "cells": [
    {
      "cell_type": "markdown",
      "source": [
        "ethereum adress is a public key used on etherumblockchain it is 40hexadecimal string of 40characterstics which are started with 0x and ethereum is blockchain based distribution where users can built and deploy their decentralized applications and now coming to the below code we will first import re it provides regular support for regular expressions ,regular expressions means it defines a pattern it is used for validation pattern maching and here we use for pattern matching now we defined a function and there we used (re.complie)where it checks whether the address starts with 0x and is followed by exactly 40hexadecimal characterstics and now match is used for whether pattern is matched with given conditions and now we given test_address and and we call the function now if it is correct it will print true or else it will print false"
      ],
      "metadata": {
        "id": "vwOqCNNzXyL_"
      }
    },
    {
      "cell_type": "code",
      "execution_count": null,
      "metadata": {
        "colab": {
          "base_uri": "https://localhost:8080/"
        },
        "id": "1K-mRUFOWaz4",
        "outputId": "052c4574-29f0-4e23-cac5-d24936c44276"
      },
      "outputs": [
        {
          "output_type": "stream",
          "name": "stdout",
          "text": [
            "true\n"
          ]
        }
      ],
      "source": [
        "import re\n",
        "\n",
        "\n",
        "def is_valid_ethereum_address(address):\n",
        "    eth_address_pattern = re.compile(r'^0x[0-9a-fA-F]{40}$')\n",
        "\n",
        "    # Check if the address matches the pattern\n",
        "    if eth_address_pattern.match(address):\n",
        "        return True\n",
        "    else:\n",
        "        return False\n",
        "\n",
        "# Test with an Ethereum address from Etherscan\n",
        "test_address = \"0x742d35Cc6634C0532925a3b844Bc454e4438f44e\"\n",
        "\n",
        "# Check if the address is valid and print the result\n",
        "if is_valid_ethereum_address(test_address):\n",
        "    print(\"true\")\n",
        "else:\n",
        "    print(\"false\")\n",
        "\n"
      ]
    }
  ]
}