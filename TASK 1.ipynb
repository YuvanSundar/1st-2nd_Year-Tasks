{
  "nbformat": 4,
  "nbformat_minor": 0,
  "metadata": {
    "colab": {
      "provenance": []
    },
    "kernelspec": {
      "name": "python3",
      "display_name": "Python 3"
    },
    "language_info": {
      "name": "python"
    }
  },
  "cells": [
    {
      "cell_type": "markdown",
      "source": [
        "importing hashlib for hashing using alogorithm using SHA-256 hashing means it will take an input and produces a fixed size string of characters,which is typically a hexa decimal number (with base 16)\n",
        "'user_data.txt.'a'this opens a text file in append mode means if file already exist it will add the content if file is not there a new one will be created ,with is used for proper indentation so now this line will store user name and hashed password in a text file after that it will register successfully now we are defining login password and now lines=file.readlines()it will read the lines in file and returns a list and after that it will enter into loop and 1st line in loop strip() will remove the extra spaces and unneccesary characterstics and .split(:) this will split into substrings and and it will store them in stored_usernme ,stored_hashed_password and it will check with the if condition statement and will proceed according to that now def function main now  def main():\n",
        "now this will create while true():\n",
        "1,register\n",
        "2,login\n",
        "3,exit\n",
        "now choice() depends on choice it will follow the given statement\n"
      ],
      "metadata": {
        "id": "nssKaNCmFV8E"
      }
    },
    {
      "cell_type": "markdown",
      "source": [],
      "metadata": {
        "id": "ldH2rp91Ij2A"
      }
    },
    {
      "cell_type": "code",
      "execution_count": 2,
      "metadata": {
        "colab": {
          "base_uri": "https://localhost:8080/"
        },
        "id": "NotBPbshDYw8",
        "outputId": "217a1ebc-5627-4530-b75b-56455a05898d"
      },
      "outputs": [
        {
          "output_type": "stream",
          "name": "stdout",
          "text": [
            "1. Register\n",
            "2. Login\n",
            "3. Exit\n",
            "Enter your choice (1/2/3): 2\n",
            "Enter your username: saicharangontla\n",
            "Enter your password: cherry@2511\n",
            "Invalid username or password. Login failed.\n",
            "1. Register\n",
            "2. Login\n",
            "3. Exit\n",
            "Enter your choice (1/2/3): 1\n",
            "Enter your username: saicharangontla\n",
            "Enter your password: cherry@2511\n",
            "User 'saicharangontla' registered successfully.\n",
            "1. Register\n",
            "2. Login\n",
            "3. Exit\n",
            "Enter your choice (1/2/3): 2\n",
            "Enter your username: saicherry\n",
            "Enter your password: cherry\n",
            "Invalid username or password. Login failed.\n",
            "1. Register\n",
            "2. Login\n",
            "3. Exit\n",
            "Enter your choice (1/2/3): 3\n",
            "Exiting the program. Goodbye!\n"
          ]
        }
      ],
      "source": [
        "import hashlib\n",
        "\n",
        "def register(username, password):\n",
        "    # Hash the password using SHA-256\n",
        "    hashed_password = hashlib.sha256(password.encode()).hexdigest()\n",
        "\n",
        "    # Write the username and hashed password to a text file\n",
        "    with open('user_data.txt', 'a') as file:\n",
        "        file.write(f\"{username}:{hashed_password}\\n\")\n",
        "\n",
        "    print(f\"User '{username}' registered successfully.\")\n",
        "\n",
        "def login(username, password):\n",
        "    # Hash the provided password for comparison\n",
        "    hashed_password_input = hashlib.sha256(password.encode()).hexdigest()\n",
        "\n",
        "    # Check if the user exists in the text file\n",
        "    with open('user_data.txt', 'r') as file:\n",
        "        lines = file.readlines()\n",
        "        for line in lines:\n",
        "            stored_username, stored_hashed_password = line.strip().split(':')\n",
        "            if stored_username == username and stored_hashed_password == hashed_password_input:\n",
        "                print(f\"Welcome, {username}! Login successful.\")\n",
        "                return\n",
        "\n",
        "        print(\"Invalid username or password. Login failed.\")\n",
        "\n",
        "def main():\n",
        "    while True:\n",
        "        print(\"1. Register\")\n",
        "        print(\"2. Login\")\n",
        "        print(\"3. Exit\")\n",
        "\n",
        "        choice = input(\"Enter your choice (1/2/3): \")\n",
        "\n",
        "        if choice == '1':\n",
        "            username = input(\"Enter your username: \")\n",
        "            password = input(\"Enter your password: \")\n",
        "            register(username, password)\n",
        "        elif choice == '2':\n",
        "            username = input(\"Enter your username: \")\n",
        "            password = input(\"Enter your password: \")\n",
        "            login(username, password)\n",
        "        elif choice == '3':\n",
        "            print(\"Exiting the program. Goodbye!\")\n",
        "            break\n",
        "        else:\n",
        "            print(\"Invalid choice. Please enter 1, 2, or 3.\")\n",
        "\n",
        "if __name__ == \"__main__\":\n",
        "    main()\n"
      ]
    }
  ]
}